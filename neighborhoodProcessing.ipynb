{
 "cells": [
  {
   "cell_type": "code",
   "execution_count": 10,
   "metadata": {
    "collapsed": true
   },
   "outputs": [],
   "source": [
    "import numpy as np\n",
    "x = [[170, 240, 10, 80, 150],\n",
    "     [230, 50, 70, 140, 160],\n",
    "     [40, 60, 130, 200, 220],\n",
    "     [100, 200, 190, 210, 30],\n",
    "     [110, 180, 250, 20, 90]]\n",
    "x = np.array(x, dtype=np.uint8)"
   ]
  },
  {
   "cell_type": "code",
   "execution_count": 11,
   "outputs": [
    {
     "name": "stdout",
     "output_type": "stream",
     "text": [
      "[[  0.           0.           0.           0.           0.        ]\n",
      " [  0.         111.11111111 108.88888889 128.88888889   0.        ]\n",
      " [  0.         118.88888889 138.88888889 150.           0.        ]\n",
      " [  0.         140.         160.         148.88888889   0.        ]\n",
      " [  0.           0.           0.           0.           0.        ]]\n"
     ]
    }
   ],
   "source": [
    "#線性濾波器\n",
    "#ones:產生一個3*3的shape 裡面都是1\n",
    "#再把裡面每個數字除以9\n",
    "mask = np.ones((3,3)) /9\n",
    "#print(mask)\n",
    "\n",
    "#取出x的大小\n",
    "rows, cols = x.shape\n",
    "#創造一個全為0的空間，大小事rows*cols\n",
    "result = np.zeros((rows,cols))\n",
    "for i in range(1,rows-1):\n",
    "    for j in range(1,cols-1):\n",
    "        #(i-1:i+2,j-1:j+2): 取i-1~i+1 和 j-1~j+1\n",
    "        result[i,j]= np.sum(x[i-1:i+2,j-1:j+2]*mask)\n",
    "\n",
    "print(result)\n"
   ],
   "metadata": {
    "collapsed": false,
    "pycharm": {
     "name": "#%%\n"
    }
   }
  },
  {
   "cell_type": "code",
   "execution_count": 12,
   "outputs": [
    {
     "name": "stdout",
     "output_type": "stream",
     "text": [
      "[[ 76  85  65  67  58]\n",
      " [ 87 111 108 128 105]\n",
      " [ 75 118 138 150 106]\n",
      " [ 76 140 160 148  85]\n",
      " [ 65 114 116  87  38]]\n"
     ]
    }
   ],
   "source": [
    "import scipy.ndimage as ndi\n",
    "#mode=‘constant‘代表填入常數值之填補，內定值是0之填補\n",
    "result2=ndi.convolve(x,mask,mode='constant')\n",
    "print(result2)"
   ],
   "metadata": {
    "collapsed": false,
    "pycharm": {
     "name": "#%%\n"
    }
   }
  }
 ],
 "metadata": {
  "kernelspec": {
   "display_name": "Python 3",
   "language": "python",
   "name": "python3"
  },
  "language_info": {
   "codemirror_mode": {
    "name": "ipython",
    "version": 2
   },
   "file_extension": ".py",
   "mimetype": "text/x-python",
   "name": "python",
   "nbconvert_exporter": "python",
   "pygments_lexer": "ipython2",
   "version": "2.7.6"
  }
 },
 "nbformat": 4,
 "nbformat_minor": 0
}