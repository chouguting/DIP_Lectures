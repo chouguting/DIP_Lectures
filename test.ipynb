{
 "cells": [
  {
   "cell_type": "code",
   "execution_count": 7,
   "metadata": {
    "collapsed": true
   },
   "outputs": [
    {
     "data": {
      "text/plain": "<matplotlib.image.AxesImage at 0x21a8371e4f0>"
     },
     "execution_count": 7,
     "metadata": {},
     "output_type": "execute_result"
    },
    {
     "data": {
      "text/plain": "<Figure size 432x288 with 1 Axes>",
      "image/png": "[encoded data removed]"
     },
     "metadata": {
      "needs_background": "light"
     },
     "output_type": "display_data"
    }
   ],
   "source": [
    "import numpy as np\n",
    "from skimage import io\n",
    "from skimage import transform\n",
    "D=np.array([[12,6,5,13,14,14,16,15],\n",
    "             [11,10,8,5,8,11,14,14],\n",
    "             [9,8,3,4,7,12,18,19],\n",
    "            [10,7,4,2,10,12,13,17],\n",
    "            [16,9,13,13,16,19,19,17],\n",
    "            [12,10,14,15,18,18,16,14],\n",
    "            [11,8,10,12,14,13,14,15],\n",
    "            [8,6,3,7,9,11,12,12]\n",
    "             ])\n",
    "S=np.ones(shape=[8,8])\n",
    "T=io.imread(\"rice.jpg\")\n",
    "C = transform.rotate(S,45, order =0)\n",
    "io.imshow(C)"
   ]
  }
 ],
 "metadata": {
  "kernelspec": {
   "display_name": "Python 3",
   "language": "python",
   "name": "python3"
  },
  "language_info": {
   "codemirror_mode": {
    "name": "ipython",
    "version": 2
   },
   "file_extension": ".py",
   "mimetype": "text/x-python",
   "name": "python",
   "nbconvert_exporter": "python",
   "pygments_lexer": "ipython2",
   "version": "2.7.6"
  }
 },
 "nbformat": 4,
 "nbformat_minor": 0
}